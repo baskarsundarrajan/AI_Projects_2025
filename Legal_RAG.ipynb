{
 "cells": [
  {
   "cell_type": "markdown",
   "metadata": {},
   "source": [
    "# Ollama Legal PDF RAG Notebook"
   ]
  },
  {
   "cell_type": "markdown",
   "metadata": {},
   "source": [
    "## Import Libraries\n"
   ]
  },
  {
   "cell_type": "code",
   "execution_count": 1,
   "metadata": {},
   "outputs": [],
   "source": [
    "# Imports\n",
    "from langchain_community.document_loaders import UnstructuredPDFLoader\n",
    "from langchain_ollama import OllamaEmbeddings\n",
    "from langchain_text_splitters import RecursiveCharacterTextSplitter\n",
    "from langchain_community.vectorstores import Chroma\n",
    "from langchain.prompts import ChatPromptTemplate, PromptTemplate\n",
    "from langchain_core.output_parsers import StrOutputParser\n",
    "from langchain_ollama.chat_models import ChatOllama\n",
    "from langchain_core.runnables import RunnablePassthrough\n",
    "from langchain.retrievers.multi_query import MultiQueryRetriever\n",
    "\n",
    "# Suppress warnings\n",
    "import warnings\n",
    "warnings.filterwarnings('ignore')\n",
    "\n",
    "# Jupyter-specific imports\n",
    "from IPython.display import display, Markdown\n",
    "\n",
    "# Set environment variable for protobuf\n",
    "import os\n",
    "os.environ[\"PROTOCOL_BUFFERS_PYTHON_IMPLEMENTATION\"] = \"python\""
   ]
  },
  {
   "cell_type": "markdown",
   "metadata": {},
   "source": [
    "## Load PDF\n",
    "change the path to document for different case files"
   ]
  },
  {
   "cell_type": "code",
   "execution_count": 2,
   "metadata": {},
   "outputs": [
    {
     "name": "stdout",
     "output_type": "stream",
     "text": [
      "PDF loaded successfully: sample_data\\Ram_Sarup_Gupta_Dead_By_Lrs_vs_Bishun_Narain_Inter_College_Ors_on_8_April_1987.PDF\n"
     ]
    }
   ],
   "source": [
    "# Load PDF\n",
    "\n",
    "local_path = \"sample_data\\Ram_Sarup_Gupta_Dead_By_Lrs_vs_Bishun_Narain_Inter_College_Ors_on_8_April_1987.PDF\"\n",
    "if local_path:\n",
    "    loader = UnstructuredPDFLoader(file_path=local_path)\n",
    "    data = loader.load()\n",
    "    print(f\"PDF loaded successfully: {local_path}\")\n",
    "else:\n",
    "    print(\"Upload a PDF file\")"
   ]
  },
  {
   "cell_type": "code",
   "execution_count": 3,
   "metadata": {},
   "outputs": [],
   "source": [
    "#print(data)"
   ]
  },
  {
   "cell_type": "markdown",
   "metadata": {},
   "source": [
    "## Split text into chunks"
   ]
  },
  {
   "cell_type": "code",
   "execution_count": 4,
   "metadata": {},
   "outputs": [
    {
     "name": "stdout",
     "output_type": "stream",
     "text": [
      "Text split into 31 chunks\n"
     ]
    }
   ],
   "source": [
    "# Split text into chunks\n",
    "text_splitter = RecursiveCharacterTextSplitter(chunk_size=3000, chunk_overlap=200)\n",
    "chunks = text_splitter.split_documents(data)\n",
    "print(f\"Text split into {len(chunks)} chunks\")"
   ]
  },
  {
   "cell_type": "code",
   "execution_count": 5,
   "metadata": {},
   "outputs": [],
   "source": [
    "#print(chunks)  # Display first 500 characters of the first chunk"
   ]
  },
  {
   "cell_type": "markdown",
   "metadata": {},
   "source": [
    "## Create vector database"
   ]
  },
  {
   "cell_type": "code",
   "execution_count": 6,
   "metadata": {},
   "outputs": [
    {
     "name": "stdout",
     "output_type": "stream",
     "text": [
      "Vector database created successfully\n"
     ]
    }
   ],
   "source": [
    "# Create vector database\n",
    "vector_db = Chroma.from_documents(\n",
    "    documents=chunks,\n",
    "    embedding=OllamaEmbeddings(model=\"nomic-embed-text\"),\n",
    "    collection_name=\"local-rag\"\n",
    ")\n",
    "print(\"Vector database created successfully\")"
   ]
  },
  {
   "cell_type": "markdown",
   "metadata": {},
   "source": [
    "## Set up LLM and Retrieval"
   ]
  },
  {
   "cell_type": "code",
   "execution_count": 7,
   "metadata": {},
   "outputs": [],
   "source": [
    "# Set up LLM and retrieval\n",
    "local_model = \"gemma3:4b\"  # or whichever model you prefer\n",
    "llm = ChatOllama(model=local_model)"
   ]
  },
  {
   "cell_type": "code",
   "execution_count": 8,
   "metadata": {},
   "outputs": [],
   "source": [
    "# Query prompt template\n",
    "QUERY_PROMPT = PromptTemplate(\n",
    "    input_variables=[\"question\"],\n",
    "    template=\"\"\"You are an AI language model assistant. Your task is to generate 2\n",
    "    different versions of the given user question to retrieve relevant documents from\n",
    "    a vector database. By generating multiple perspectives on the user question, your\n",
    "    goal is to help the user overcome some of the limitations of the distance-based\n",
    "    similarity search. Provide these alternative questions separated by newlines.\n",
    "    Original question: {question}\"\"\",\n",
    ")\n",
    "\n",
    "# Set up retriever\n",
    "retriever = MultiQueryRetriever.from_llm(\n",
    "    vector_db.as_retriever(), \n",
    "    llm,\n",
    "    prompt=QUERY_PROMPT\n",
    ")"
   ]
  },
  {
   "cell_type": "markdown",
   "metadata": {},
   "source": [
    "## Create chain"
   ]
  },
  {
   "cell_type": "code",
   "execution_count": 9,
   "metadata": {},
   "outputs": [],
   "source": [
    "# RAG prompt template\n",
    "template = \"\"\"\n",
    "You are a legal assistant. Use ONLY the information provided in the context below to answer the question as accurately and concisely as possible. Do not make up any information or provide legal advice.\n",
    "\n",
    "Context:\n",
    "{context}\n",
    "\n",
    "Question:\n",
    "{question}\n",
    "\n",
    "Answer (based strictly on the context):\n",
    "\"\"\"\n",
    "\n",
    "prompt = ChatPromptTemplate.from_template(template)"
   ]
  },
  {
   "cell_type": "code",
   "execution_count": 10,
   "metadata": {},
   "outputs": [],
   "source": [
    "# Create chain\n",
    "chain = (\n",
    "    {\"context\": retriever, \"question\": RunnablePassthrough()}\n",
    "    | prompt\n",
    "    | llm\n",
    "    | StrOutputParser()\n",
    ")"
   ]
  },
  {
   "cell_type": "markdown",
   "metadata": {},
   "source": [
    "## Chat with PDF"
   ]
  },
  {
   "cell_type": "code",
   "execution_count": 11,
   "metadata": {},
   "outputs": [],
   "source": [
    "def chat_with_pdf(question):\n",
    "    \"\"\"\n",
    "    Chat with the PDF using the RAG chain.\n",
    "    \"\"\"\n",
    "    return display(Markdown(chain.invoke(question)))"
   ]
  },
  {
   "cell_type": "code",
   "execution_count": 12,
   "metadata": {},
   "outputs": [
    {
     "data": {
      "text/markdown": [
       "The main idea of the Ram Sarup Gupta vs. Bishun Narain case is that a licensee (the school) can obtain an irrevocable license under Section 60(b) of the Indian Easement Act, 1882, even if they have built permanent structures and incurred expenses on the land, *provided* they clearly plead and prove that these constructions and expenses were made “acting upon the license.” The court emphasized the importance of specific pleading and evidence to support the claim of irrevocability, rather than simply relying on the execution of permanent works. The school failed to adequately plead this crucial element, leading to the court dismissing their claim."
      ],
      "text/plain": [
       "<IPython.core.display.Markdown object>"
      ]
     },
     "metadata": {},
     "output_type": "display_data"
    }
   ],
   "source": [
    "chat_with_pdf(\"What is the main idea of Irrevocable License for School: Ram Sarup Gupta vs Bishun Narain?\")"
   ]
  },
  {
   "cell_type": "code",
   "execution_count": 13,
   "metadata": {},
   "outputs": [
    {
     "data": {
      "text/markdown": [
       "The core argument revolves around whether the school’s construction on the property constituted a permanent, irrevocable license under Section 60(b) of the Indian Easements Act. Here’s a breakdown of the key arguments:\n",
       "\n",
       "**School’s Argument (for Irrevocability):**\n",
       "\n",
       "*   **Permanent Construction:** The school erected works of a permanent nature (buildings) on the property.\n",
       "*   **“Acting Upon the License”:** They did so while utilizing the license for the purpose of running the school.\n",
       "*   **Expenses Incurred:** They spent money on these constructions as part of operating the school.\n",
       "\n",
       "**Opposing Argument (against Irrevocability):**\n",
       "\n",
       "*   **Lack of Specific Pleadings:** The opposing side argued the school failed to present sufficient pleadings to demonstrate the license was truly irrevocable. They contended that the courts shouldn't have created a new case for the defendants.\n",
       "*   **Absence of Issue Framed:** No specific issue was framed concerning the irrevocability of the license.\n",
       "\n",
       "**Court’s Decision (Based on the provided text):**\n",
       "\n",
       "The court ultimately ruled in favor of the school, stating that all three conditions – permanent construction, \"acting upon the license,\" and incurred expenses – were met, making the license irrevocable. The court emphasized that allowing someone to build on land while granting a license doesn’t automatically create a right to revoke it later. \n",
       "\n",
       "**In essence, the arguments hinged on whether the school’s actions fully satisfied the requirements for an irrevocable license under Section 60(b) of the Easements Act.**"
      ],
      "text/plain": [
       "<IPython.core.display.Markdown object>"
      ]
     },
     "metadata": {},
     "output_type": "display_data"
    }
   ],
   "source": [
    "chat_with_pdf(\"Summarize the arguments regarding the irrevocability of the license.\")"
   ]
  },
  {
   "cell_type": "code",
   "execution_count": 14,
   "metadata": {},
   "outputs": [
    {
     "data": {
      "text/markdown": [
       "The case study revolves around a dispute concerning an irrevocable license granted to Bishun Narain Inter College (the respondents) to build on land owned by Ram Surup Gupta (the appellant). The core issue was whether the license was, in fact, irrevocable.\n",
       "\n",
       "Here's a breakdown of the key points:\n",
       "\n",
       "* **The Dispute:** Gupta argued that the respondents’ construction and incurring expenses constituted a permanent structure and therefore, the license was irrevocable under Section 60(b) of the Indian Easement Act, 1882.\n",
       "* **Respondents’ Argument:** The respondents contended that their construction and expenses made the license irrevocable.\n",
       "* **Court’s Decision:** The court, led by Justice T.S. Misra, sided with Gupta.  The court found that the respondents failed to adequately plead their case. They hadn’t produced evidence demonstrating that the construction and expenses were “acting upon the license” – a crucial element required to make the license irrevocable. The court emphasized that the pleadings need not mirror the exact wording of the statute and focused on the substance of the case.  The judges agreed that the respondents’ pleadings were insufficient to support their claim.\n",
       "\n",
       "In essence, the case highlights the importance of proper pleading in legal proceedings, particularly when claiming rights based on statutory provisions. Simply executing work or incurring expenses isn't enough; the claim must be clearly and adequately presented in the pleadings."
      ],
      "text/plain": [
       "<IPython.core.display.Markdown object>"
      ]
     },
     "metadata": {},
     "output_type": "display_data"
    }
   ],
   "source": [
    "chat_with_pdf(\"Can you explain the case study highlighted in the document?\")"
   ]
  },
  {
   "cell_type": "code",
   "execution_count": 15,
   "metadata": {},
   "outputs": [
    {
     "data": {
      "text/markdown": [
       "Here’s a breakdown of the key points from the document:\n",
       "\n",
       "*   **Lack of Express Pleadings Doesn't Necessarily Bar a Claim:** The core argument is that even though the plaintiff (Bishun Narain Inter College) didn’t explicitly plead that the license was perpetual and irrevocable, the court can still consider it if it’s supported by evidence.\n",
       "\n",
       "*   **Substance Over Form:** The court emphasizes that the focus should be on the *substance* of the pleadings and the issues raised, rather than strictly adhering to the form of the pleadings.\n",
       "\n",
       "*   **Knowledge of the Issue:** A crucial factor is whether the parties *knew* the issue was being contested. If both parties were aware of a particular matter and evidence was presented about it, a party can rely on it even if it wasn't explicitly pleaded.\n",
       "\n",
       "*   **Evidence is Key:**  If evidence is presented regarding a matter, a party can invoke it, regardless of whether it was specifically pleaded. The plaintiff did this by producing the donor in evidence to support his claim of an irrevocable license.\n",
       "\n",
       "*   **Liberal Construction of Pleadings:** The court suggests a liberal approach to interpreting pleadings, avoiding pedantic focus on minor technicalities.\n",
       "\n",
       "*   **Bhagwati Prasad Case Analogy:** The court refers to the *Bhagwati Prasad v. Shri Chandramaul* case, which provides a similar principle – a plea isn’t denied simply because it wasn't expressly made if the issue was known and evidence was presented.\n",
       "\n",
       "In essence, the document establishes a principle that courts will look beyond the strict wording of pleadings when evidence demonstrates a party's claim."
      ],
      "text/plain": [
       "<IPython.core.display.Markdown object>"
      ]
     },
     "metadata": {},
     "output_type": "display_data"
    }
   ],
   "source": [
    "chat_with_pdf(\"tell me the key points in the document\")"
   ]
  },
  {
   "cell_type": "markdown",
   "metadata": {},
   "source": [
    "## Chatbot UI"
   ]
  },
  {
   "cell_type": "code",
   "execution_count": 16,
   "metadata": {},
   "outputs": [
    {
     "name": "stdout",
     "output_type": "stream",
     "text": [
      "* Running on local URL:  http://127.0.0.1:7860\n"
     ]
    }
   ],
   "source": [
    "import gradio as gr\n",
    "import nest_asyncio\n",
    "nest_asyncio.apply()\n",
    "\n",
    "def gradio_interface(question, history):\n",
    "    try:\n",
    "        response = chain.invoke(question)\n",
    "    except Exception:\n",
    "        response = \"⚠️ Sorry, something went wrong while processing your request.\"\n",
    "    return response\n",
    "\n",
    "# Gradio UI\n",
    "demo = gr.ChatInterface(\n",
    "    fn=gradio_interface,\n",
    "    title=\"Legal Document Chatbot\",\n",
    "    description=\"Ask questions about the Document\",\n",
    "    examples=[\n",
    "        \"tell me the key points in the document.\",\n",
    "        \"Summarize the court's reasoning on this case.\"\n",
    "    ]\n",
    ")\n",
    "\n",
    "# ⚠️ Safely launch Gradio without showing tracebacks\n",
    "try:\n",
    "    demo.launch(share=True, show_error=False)  # `show_error=False` hides internal errors\n",
    "except Exception:\n",
    "    pass  \n"
   ]
  },
  {
   "cell_type": "markdown",
   "metadata": {},
   "source": [
    "## Clean up (optional)"
   ]
  },
  {
   "cell_type": "code",
   "execution_count": 17,
   "metadata": {},
   "outputs": [],
   "source": [
    "# Optional: Clean up when done \n",
    "#vector_db.delete_collection()\n",
    "#print(\"Vector database deleted successfully\")"
   ]
  }
 ],
 "metadata": {
  "kernelspec": {
   "display_name": "rag-env",
   "language": "python",
   "name": "python3"
  },
  "language_info": {
   "codemirror_mode": {
    "name": "ipython",
    "version": 3
   },
   "file_extension": ".py",
   "mimetype": "text/x-python",
   "name": "python",
   "nbconvert_exporter": "python",
   "pygments_lexer": "ipython3",
   "version": "3.10.16"
  }
 },
 "nbformat": 4,
 "nbformat_minor": 2
}
